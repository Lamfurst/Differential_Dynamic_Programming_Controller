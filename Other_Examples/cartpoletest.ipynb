{
 "cells": [
  {
   "cell_type": "code",
   "execution_count": 1,
   "metadata": {},
   "outputs": [],
   "source": [
    "import torch\n",
    "import numpy as np\n",
    "from mppi import MPPI\n",
    "import matplotlib.pyplot as plt\n",
    "from matplotlib.animation import FuncAnimation\n",
    "from IPython import display\n",
    "from tqdm.notebook import tqdm\n",
    "from celluloid import Camera\n",
    "import os\n",
    "import imageio"
   ]
  },
  {
   "cell_type": "code",
   "execution_count": 2,
   "metadata": {},
   "outputs": [],
   "source": [
    "%load_ext autoreload\n",
    "%autoreload 2"
   ]
  },
  {
   "cell_type": "code",
   "execution_count": 24,
   "metadata": {},
   "outputs": [
    {
     "data": {
      "application/vnd.jupyter.widget-view+json": {
       "model_id": "04924028c76743268c91fe10d8a31494",
       "version_major": 2,
       "version_minor": 0
      },
      "text/plain": [
       "  0%|          | 0/100 [00:00<?, ?it/s]"
      ]
     },
     "metadata": {},
     "output_type": "display_data"
    },
    {
     "name": "stderr",
     "output_type": "stream",
     "text": [
      "c:\\Users\\Lamfu\\PycharmProjects\\ROB_498\\venv\\lib\\site-packages\\autograd\\tracer.py:14: UserWarning: Output seems independent of input.\n",
      "  warnings.warn(\"Output seems independent of input.\")\n",
      "C:\\Users\\Lamfu\\AppData\\Local\\Temp\\ipykernel_39688\\553499420.py:97: DeprecationWarning: Starting with ImageIO v3 the behavior of this function will switch to that of iio.v3.imread. To keep the current behavior (and make this warning disappear) use `import imageio.v2 as imageio` or call `imageio.v2.imread` directly.\n",
      "  images.append(imageio.imread(filename))\n"
     ]
    }
   ],
   "source": [
    "from DDPController import *\n",
    "from cartpoleDynamics import *\n",
    "import autograd.numpy as np\n",
    "\n",
    "if not os.path.exists('cartpole'):\n",
    "    os.makedirs('cartpole')\n",
    "\n",
    "state_dim = 4\n",
    "action_dim = 1\n",
    "x_final = np.array([.0, .0, .0, .0])\n",
    "Q = np.diag([10, .1, 100, 10.])\n",
    "R = np.array([[.3]])\n",
    "terminal_scale = 100.0\n",
    "cost = CartpoleCost(x_final, terminal_scale, Q, R)\n",
    "DDP_dynamic = dynamics\n",
    "\n",
    "controller = DDPcontroller(DDP_dynamic, cost, tolerance = 1e-3, max_iter = 100, T = 10, state_dim = state_dim, control_dim = action_dim, rho = 0.9, max_dc_iter = 10, dt = 0.05)\n",
    "\n",
    "# initial_state = np.random.randn(state_dim)\n",
    "initial_state = np.array([0,0,np.pi,0])\n",
    "\n",
    "state = initial_state\n",
    "\n",
    "target = x_final\n",
    "\n",
    "num_steps = 100\n",
    "pbar = tqdm(range(num_steps))\n",
    "\n",
    "for i in pbar:\n",
    "    \n",
    "    action = controller.command(state)\n",
    "    \n",
    "    state = DDP_dynamic(state, action)\n",
    "    state = state.squeeze()\n",
    "    # print(state)\n",
    "    dx = (state-target)\n",
    "    d_theta = np.mod(dx[2] + np.pi, 2 * np.pi) - np.pi\n",
    "    error = np.array([dx[0], dx[1], d_theta, dx[3]]) @ np.diag([0.1, 0.1, 1, 0.1])\n",
    "    error_i = np.linalg.norm(error)\n",
    "    pbar.set_description(f'Goal Error: {error_i:.4f}')\n",
    "\n",
    "    # --- Start plotting\n",
    "    fig, ax = plt.subplots()\n",
    "    ax = plt.axes(xlim=(state[0]-10, state[0]+10), ylim=(-2, 2))\n",
    "    ax.set_aspect('equal')\n",
    "    ax.grid()\n",
    "    ax.set_xlabel('x')\n",
    "    ax.set_ylabel('y')\n",
    "    ax.set_title('cartpole at t={:.2f}'.format(i*0.05))\n",
    "    x = state[0]\n",
    "    theta1 = state[2]\n",
    "    L1 = 0.5\n",
    "    x1 = x + L1*np.sin(theta1)\n",
    "    y1 = L1*np.cos(theta1)\n",
    "    plt.plot([x,x1],[0,y1],color='black')   \n",
    "    filename = os.path.join('cartpole', 'plot_{:03d}.png'.format(i))\n",
    "    # plt.show()\n",
    "    plt.savefig(filename)\n",
    "    plt.close()\n",
    "    if error_i < 0.1 and i > 50:\n",
    "        num_steps = i\n",
    "        break\n",
    "    # --- End plotting\n",
    "\n",
    "images = []\n",
    "for i in range(num_steps):\n",
    "    filename = os.path.join('cartpole', 'plot_{:03d}.png'.format(i))\n",
    "    images.append(imageio.imread(filename))\n",
    "imageio.mimsave('cartpole.gif', images, duration=0.1)\n",
    "    # --- End plotting\n",
    "plt.show()\n",
    "plt.close()\n",
    "\n"
   ]
  }
 ],
 "metadata": {
  "kernelspec": {
   "display_name": "basic",
   "language": "python",
   "name": "basic"
  },
  "language_info": {
   "codemirror_mode": {
    "name": "ipython",
    "version": 3
   },
   "file_extension": ".py",
   "mimetype": "text/x-python",
   "name": "python",
   "nbconvert_exporter": "python",
   "pygments_lexer": "ipython3",
   "version": "3.9.6"
  },
  "orig_nbformat": 4
 },
 "nbformat": 4,
 "nbformat_minor": 2
}
